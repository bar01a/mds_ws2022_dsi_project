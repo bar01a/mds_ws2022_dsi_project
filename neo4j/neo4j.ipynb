{
 "cells": [
  {
   "cell_type": "markdown",
   "metadata": {},
   "source": [
    "<h1 style=\"text-align: center;\">Neo4J - Graph Database</h1>"
   ]
  },
  {
   "cell_type": "markdown",
   "metadata": {},
   "source": [
    "<p style=\"font-size: 20px;\">neo4j is a Graph Database Node and Relationship composition. Nodes are basic data, and relationships connect these data.\n",
    "Instead of using tables with rows and columns, we use a graph with nodes and relationships.\n",
    "A relational database is optimal for tabular data that is not closely related.\n",
    "Graph databases are designed to work with closely related data.</p>"
   ]
  },
  {
   "cell_type": "code",
   "execution_count": 147,
   "metadata": {
    "collapsed": true
   },
   "outputs": [],
   "source": [
    "# install neo4j and import necessary classes and functions\n",
    "\n",
    "# !pip install neo4j\n",
    "from neo4j import GraphDatabase"
   ]
  },
  {
   "cell_type": "code",
   "execution_count": 148,
   "metadata": {},
   "outputs": [],
   "source": [
    "# use bolt protocol - difference between the bolt and neo4j protocol is that\n",
    "# when using bolt, a single point-to-point connection to one server instance is\n",
    "# established while neo4j may route requests to different members of a cluster.\n",
    "# https://neo4j.com/docs/driver-manual/4.0/client-applications/#driver-configuration-examples\n",
    "\n",
    "url = \"bolt://localhost:7687\"\n",
    "driver = GraphDatabase.driver(\n",
    "    uri=url,\n",
    "    auth=(\"neo4j\", \"password\"),\n",
    "    database = \"linked\",\n",
    "    encrypted=False\n",
    ")"
   ]
  },
  {
   "cell_type": "code",
   "execution_count": 149,
   "metadata": {},
   "outputs": [
    {
     "data": {
      "text/plain": "<neo4j._sync.driver.BoltDriver at 0x227eedd4eb0>"
     },
     "execution_count": 149,
     "metadata": {},
     "output_type": "execute_result"
    }
   ],
   "source": [
    "# confirm creation\n",
    "driver"
   ]
  },
  {
   "cell_type": "code",
   "execution_count": 150,
   "metadata": {},
   "outputs": [
    {
     "data": {
      "text/plain": "<neo4j._sync.work.session.Session at 0x227eedd4460>"
     },
     "execution_count": 150,
     "metadata": {},
     "output_type": "execute_result"
    }
   ],
   "source": [
    "# create session\n",
    "session = driver.session()\n",
    "session"
   ]
  },
  {
   "cell_type": "markdown",
   "metadata": {},
   "source": [
    "## Node creation\n",
    "<p style=\"font-size: 20px;\">Graph databases consist of 2 main components: <strong>nodes</strong> and <strong>relationships</strong> that connect nodes. Nodes can have properties and labels. Labels can be seen as custom node types. For example when modelling a movie database, you would have nodes of type <i>actor</i>, <i>movie</i> and <i>director</i>.\n",
    "</p>"
   ]
  },
  {
   "cell_type": "code",
   "execution_count": 151,
   "metadata": {},
   "outputs": [],
   "source": [
    "# create nodes of type \"Person\". Some people have additional roles\n",
    "# such as recruiters or premium users. Each user has a name\n",
    "create_query = \"\"\"\n",
    "create (franz:Person:Recruiter {name: \"Franz\"})\n",
    "create (hans:Person:Premium {name: \"Hans\"})\n",
    "create (john:Person {name:\"John\"})\n",
    "create (dean:Person:Recruiter {name:\"Dean\"})\n",
    "create (sam:Person {name:\"Sam\"})\n",
    "\"\"\"\n",
    "\n",
    "# create nodes of type \"Company\". Each company has a name, founding date and an industry\n",
    "create_query += \"\"\"\n",
    "create (microsoft:Company {name: \"Microsoft Corporation\", established: 1975, industry: \"Technology & Innovation\"})\n",
    "create (apple:Company {name: \"Apple\", established: 1976, industry: \"Technology & Innovation\"})\n",
    "create (google:Company {name: \"Google LLC\", established: 1998, industry: \"Technology & Innovation\"})\n",
    "create (voestalpine:Company {name: \"Vöstalpine AG\", established: 1938, industry: \"Steel / metal industry\"})\n",
    "\"\"\""
   ]
  },
  {
   "cell_type": "markdown",
   "metadata": {},
   "source": [
    "## Relationship creation\n",
    "<p style=\"font-size: 20px;\">Relationships are connections between nodes that can contain additional information.</p>"
   ]
  },
  {
   "cell_type": "code",
   "execution_count": 152,
   "metadata": {},
   "outputs": [
    {
     "data": {
      "text/plain": "<neo4j._sync.work.result.Result at 0x227eeda1d60>"
     },
     "execution_count": 152,
     "metadata": {},
     "output_type": "execute_result"
    }
   ],
   "source": [
    "# create \"worked_at\" relationships between nodes. Because we gave each node a variable name, we can simply access the created node through the variable.\n",
    "create_query += \"\"\"\n",
    "create (franz) -[:worked_at {\n",
    "    from: date(\"2018-01-01\"), until: date(\"2020-03-31\"), position: \"Recruiting Officer\"\n",
    "}]-> (google)\n",
    "create (franz) -[:worked_at {\n",
    "    from: date(\"2020-09-01\"), until: null, position: \"Recruiting Manager\"\n",
    "}] -> (microsoft)\n",
    "create (hans) - [:worked_at {\n",
    "    from: date(\"2022-01-01\"), until: null, position: \"Software Developer\"\n",
    "}] -> (apple)\n",
    "create (john) - [:worked_at {\n",
    "    from: date(\"2020-05-01\"), until: date(\"2023-01-31\"), position: \"Scrum Master\"\n",
    "}] -> (voestalpine)\n",
    "create (john) - [:worked_at {\n",
    "    from: date(\"2018-01-01\"), until: date(\"2020-03-31\"), position: \"Project Manager\"\n",
    "}] -> (microsoft)\n",
    "create (dean) - [:worked_at {\n",
    "    from: date(\"2022-01-01\"), until: date(\"2022-07-31\"), position: \"Recruiting Greenhorn\"\n",
    "}] -> (microsoft)\n",
    "create (dean) - [:worked_at {\n",
    "    from: date(\"2022-08-01\"), until: date(\"2023-12-31\"), position: \"Recruiting\"\n",
    "}] -> (microsoft)\n",
    "create (dean) - [:worked_at {\n",
    "    from: date(\"2023-01-01\"), until: null, position: \"Recruiting Officer\"\n",
    "}] -> (google)\n",
    "create (sam) - [:worked_at {\n",
    "    from: date(\"2022-08-01\"), until: null, position: \"Data Scientist\"\n",
    "}] -> (apple)\n",
    "\"\"\"\n",
    "\n",
    "# create \"is_friends_with\" relationships between \"person\"-nodes\n",
    "create_query += \"\"\"\n",
    "create (franz) - [:is_friends_with] -> (hans)\n",
    "create (franz) <- [:is_friends_with] - (hans)\n",
    "\n",
    "create (dean) - [:is_friends_with] -> (sam)\n",
    "create (dean) <- [:is_friends_with] - (sam)\n",
    "\n",
    "create (dean) - [:is_friends_with] -> (john)\n",
    "create (dean) <- [:is_friends_with] - (john)\n",
    "\"\"\"\n",
    "\n",
    "#Use run() equation to execute neo4j statement\n",
    "session.run(create_query)"
   ]
  },
  {
   "cell_type": "markdown",
   "metadata": {},
   "source": [
    "## Selecting all nodes"
   ]
  },
  {
   "cell_type": "code",
   "execution_count": 173,
   "metadata": {},
   "outputs": [
    {
     "name": "stdout",
     "output_type": "stream",
     "text": [
      "{'n': {'name': 'John'}}\n",
      "{'n': {'name': 'Dean'}}\n",
      "{'n': {'name': 'Sam'}}\n",
      "{'n': {'established': 1975, 'name': 'Microsoft Corporation', 'industry': 'Technology & Innovation'}}\n",
      "{'n': {'established': 1976, 'name': 'Apple Inc.', 'industry': 'Technology & Innovation'}}\n",
      "{'n': {'established': 1998, 'name': 'Google LLC', 'industry': 'Technology & Innovation'}}\n",
      "{'n': {'established': 1938, 'name': 'Vöstalpine AG', 'industry': 'Steel / metal industry'}}\n",
      "{'n': {'name': 'Franz'}}\n",
      "{'n': {'name': 'Hans'}}\n"
     ]
    }
   ],
   "source": [
    "#match is a query statement, here is a \"nodes\" variable is defined to save the returned data\n",
    "select_query = \"MATCH (n) RETURN n\"\n",
    "nodes = session.run(select_query)\n",
    "\n",
    "#Use for loop to print data\n",
    "for n in nodes:\n",
    "    print(n.data())\n",
    "\n",
    "# See visualisation via localhost:7474\n",
    "# match (n) return n"
   ]
  },
  {
   "cell_type": "markdown",
   "source": [
    "![](first_creation.png)"
   ],
   "metadata": {
    "collapsed": false
   }
  },
  {
   "cell_type": "markdown",
   "source": [
    "## Selects\n",
    "### Selecting nodes and creating a new relationship"
   ],
   "metadata": {
    "collapsed": false
   }
  },
  {
   "cell_type": "code",
   "execution_count": 155,
   "outputs": [
    {
     "data": {
      "text/plain": "<neo4j._sync.work.result.Result at 0x227eede2d30>"
     },
     "execution_count": 155,
     "metadata": {},
     "output_type": "execute_result"
    }
   ],
   "source": [
    "create_query = \"\"\"\n",
    "match (sam {name: \"Sam\"}), (franz {name: \"Franz\"})\n",
    "create (sam) -[:is_friends_with]->(franz)\n",
    "create (sam) <-[:is_friends_with]-(franz)\n",
    "\"\"\"\n",
    "\n",
    "session.run(create_query)"
   ],
   "metadata": {
    "collapsed": false
   }
  },
  {
   "cell_type": "markdown",
   "source": [
    "![](add_sam_franz_relationship.png)"
   ],
   "metadata": {
    "collapsed": false
   }
  },
  {
   "cell_type": "markdown",
   "source": [
    "### Updating information"
   ],
   "metadata": {
    "collapsed": false
   }
  },
  {
   "cell_type": "code",
   "execution_count": 158,
   "outputs": [
    {
     "name": "stdout",
     "output_type": "stream",
     "text": [
      "{'apple': {'established': 1976, 'name': 'Apple Inc.', 'industry': 'Technology & Innovation'}}\n"
     ]
    }
   ],
   "source": [
    "# \"where\" - filter also exists (regex can be used with the =~ operator)\n",
    "update_query = \"\"\"\n",
    "match (apple:Company)\n",
    "where apple.name =~ \"App.+\"\n",
    "set apple.name = \"Apple Inc.\"\n",
    "return apple\n",
    "\"\"\"\n",
    "\n",
    "nodes = session.run(update_query)\n",
    "\n",
    "for n in nodes:\n",
    "    print(n.data())"
   ],
   "metadata": {
    "collapsed": false
   }
  },
  {
   "cell_type": "markdown",
   "source": [
    "### Select previous workplaces of a certain person not including the current one"
   ],
   "metadata": {
    "collapsed": false
   }
  },
  {
   "cell_type": "code",
   "execution_count": 159,
   "outputs": [
    {
     "name": "stdout",
     "output_type": "stream",
     "text": [
      "{'company': {'established': 1975, 'name': 'Microsoft Corporation', 'industry': 'Technology & Innovation'}}\n"
     ]
    }
   ],
   "source": [
    "select_query = \"\"\"\n",
    "match (dean:Person {name: \"Dean\"}) -[worked:worked_at]-> (company:Company)\n",
    "where worked.until is not null\n",
    "return distinct company\n",
    "\"\"\"\n",
    "\n",
    "nodes = session.run(select_query)\n",
    "\n",
    "for n in nodes:\n",
    "    print(n.data())"
   ],
   "metadata": {
    "collapsed": false
   }
  },
  {
   "cell_type": "markdown",
   "source": [
    "### Get all friends of Franz"
   ],
   "metadata": {
    "collapsed": false
   }
  },
  {
   "cell_type": "code",
   "execution_count": 145,
   "outputs": [
    {
     "name": "stdout",
     "output_type": "stream",
     "text": [
      "{'franz': {'name': 'Franz'}, 'person2': {'name': 'Sam'}}\n",
      "{'franz': {'name': 'Franz'}, 'person2': {'name': 'Hans'}}\n"
     ]
    }
   ],
   "source": [
    "select_query = \"\"\"\n",
    "match (franz:Person {name: \"Franz\"}) -[:is_friends_with]-> (person2:Person)\n",
    "return franz, person2\n",
    "\"\"\"\n",
    "\n",
    "nodes = session.run(select_query)\n",
    "\n",
    "for n in nodes:\n",
    "    print(n.data())"
   ],
   "metadata": {
    "collapsed": false
   }
  },
  {
   "cell_type": "markdown",
   "source": [
    "### Get all relationships of Sam"
   ],
   "metadata": {
    "collapsed": false
   }
  },
  {
   "cell_type": "code",
   "execution_count": 186,
   "outputs": [
    {
     "name": "stdout",
     "output_type": "stream",
     "text": [
      "{'relationship': [{'name': 'Sam'}, 'is_friends_with', {'name': 'Franz'}]}\n",
      "{'relationship': [{'name': 'Sam'}, 'is_friends_with', {'name': 'Dean'}]}\n",
      "{'relationship': [{'name': 'Sam'}, 'worked_at', {'established': 1976, 'name': 'Apple Inc.', 'industry': 'Technology & Innovation'}]}\n"
     ]
    }
   ],
   "source": [
    "select_query = \"\"\"\n",
    "match relationship = (:Person {name: \"Sam\"}) -[:is_friends_with|worked_at]-> (n)\n",
    "return relationship\n",
    "\"\"\"\n",
    "\n",
    "nodes = session.run(select_query)\n",
    "\n",
    "for n in nodes:\n",
    "    print(n.data())"
   ],
   "metadata": {
    "collapsed": false
   }
  },
  {
   "cell_type": "markdown",
   "source": [
    "![](all_relationships_of_sam.png)"
   ],
   "metadata": {
    "collapsed": false
   }
  },
  {
   "cell_type": "markdown",
   "source": [
    "### Get all job titles of recruiters ordered by starting date\n",
    "<p style=\"font-size: 20px;\">Here we can see that the positions of recruiters changed for the better i.e. they got promotions</p>"
   ],
   "metadata": {
    "collapsed": false
   }
  },
  {
   "cell_type": "code",
   "execution_count": 198,
   "outputs": [
    {
     "name": "stdout",
     "output_type": "stream",
     "text": [
      "{'worked.position': 'Recruiting Greenhorn', 'recruiter.name': 'Dean'}\n",
      "{'worked.position': 'Recruiting', 'recruiter.name': 'Dean'}\n",
      "{'worked.position': 'Recruiting Officer', 'recruiter.name': 'Dean'}\n",
      "{'worked.position': 'Recruiting Officer', 'recruiter.name': 'Franz'}\n",
      "{'worked.position': 'Recruiting Manager', 'recruiter.name': 'Franz'}\n"
     ]
    }
   ],
   "source": [
    "select_query = \"\"\"\n",
    "match (recruiter:Recruiter) -[worked:worked_at]-> (company:Company)\n",
    "return worked.position, recruiter.name\n",
    "order by recruiter.name, worked.from\n",
    "\"\"\"\n",
    "\n",
    "nodes = session.run(select_query)\n",
    "\n",
    "# here we can see that the positions of recruiters changed for the better i.e. they got promotions\n",
    "for n in nodes:\n",
    "    print(n.data())\n"
   ],
   "metadata": {
    "collapsed": false
   }
  },
  {
   "cell_type": "markdown",
   "source": [
    "### Get possible friend recommendations for users that worked_at the same company and aren't friends"
   ],
   "metadata": {
    "collapsed": false
   }
  },
  {
   "cell_type": "code",
   "execution_count": 196,
   "outputs": [
    {
     "name": "stdout",
     "output_type": "stream",
     "text": [
      "{'person': {'name': 'John'}, 'person2': {'name': 'Franz'}}\n",
      "{'person': {'name': 'Dean'}, 'person2': {'name': 'Franz'}}\n",
      "{'person': {'name': 'Sam'}, 'person2': {'name': 'Hans'}}\n",
      "{'person': {'name': 'Franz'}, 'person2': {'name': 'John'}}\n",
      "{'person': {'name': 'Franz'}, 'person2': {'name': 'Dean'}}\n",
      "{'person': {'name': 'Hans'}, 'person2': {'name': 'Sam'}}\n"
     ]
    }
   ],
   "source": [
    "\n",
    "select_query = \"\"\"\n",
    "match (person:Person) -[:worked_at]->(company:Company)\n",
    "match (person2:Person) -[:worked_at]->(company)\n",
    "where person <> person2\n",
    "    and not (person) -[:is_friends_with]-> (person2)\n",
    "    and not (person2) -[:is_friends_with]-> (person)\n",
    "return distinct person, person2\n",
    "order by person, person2\n",
    "\"\"\"\n",
    "\n",
    "nodes = session.run(select_query)\n",
    "\n",
    "for n in nodes:\n",
    "    print(n.data())"
   ],
   "metadata": {
    "collapsed": false
   }
  },
  {
   "cell_type": "markdown",
   "source": [
    "## Delete all nodes including their relationships"
   ],
   "metadata": {
    "collapsed": false
   }
  },
  {
   "cell_type": "code",
   "execution_count": 146,
   "outputs": [
    {
     "data": {
      "text/plain": "<neo4j._sync.work.result.Result at 0x227eedd4b20>"
     },
     "execution_count": 146,
     "metadata": {},
     "output_type": "execute_result"
    }
   ],
   "source": [
    "#Delete all nodes and relationships\n",
    "delete_query = \"\"\"\n",
    "match (n) detach delete(n)\n",
    "\"\"\"\n",
    "\n",
    "session.run(delete_query)"
   ],
   "metadata": {
    "collapsed": false
   }
  }
 ],
 "metadata": {
  "kernelspec": {
   "display_name": "Python 3 (ipykernel)",
   "language": "python",
   "name": "python3"
  },
  "language_info": {
   "codemirror_mode": {
    "name": "ipython",
    "version": 3
   },
   "file_extension": ".py",
   "mimetype": "text/x-python",
   "name": "python",
   "nbconvert_exporter": "python",
   "pygments_lexer": "ipython3",
   "version": "3.9.12"
  }
 },
 "nbformat": 4,
 "nbformat_minor": 1
}
