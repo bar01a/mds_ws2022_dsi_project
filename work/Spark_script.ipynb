{
 "cells": [
  {
   "cell_type": "code",
   "execution_count": null,
   "id": "b019fc86-9939-4339-8b48-c6bf8b542d0c",
   "metadata": {},
   "outputs": [],
   "source": [
    "# !pip install kafka-python"
   ]
  },
  {
   "cell_type": "code",
   "execution_count": 1,
   "id": "a45fbc8d-9287-4b4b-810e-d4b4836cf31f",
   "metadata": {},
   "outputs": [
    {
     "name": "stdout",
     "output_type": "stream",
     "text": [
      "Waiting for new events...\n"
     ]
    },
    {
     "data": {
      "text/plain": [
       "<Kafka_Helpers.Consumer at 0x7f2586e2b100>"
      ]
     },
     "execution_count": 1,
     "metadata": {},
     "output_type": "execute_result"
    }
   ],
   "source": [
    "def count_and_send_back(key, value):\n",
    "    import ast\n",
    "    from pyspark import SparkContext\n",
    "    from Kafka_Helpers import Producer\n",
    "    import json\n",
    "    \n",
    "    value = value.replace(\"\\'\", \"\\\"\")\n",
    "    o = json.loads(value)\n",
    "    \n",
    "    # Create Spark context\n",
    "    sc = SparkContext.getOrCreate()\n",
    "    \n",
    "    # make list of lists out of string\n",
    "    l = ast.literal_eval(str(o['reviews']))\n",
    "    \n",
    "    # flatten list of lists to one single list\n",
    "    l = [item for sublist in l for item in sublist]\n",
    "    \n",
    "    # create Spark RDD from flattened list\n",
    "    wordsRDD = sc.parallelize(l, 4)\n",
    "    \n",
    "    # count\n",
    "    res = wordsRDD.map(lambda w: (w, 1)).reduceByKey(lambda x,y: x+y).collect()\n",
    "    \n",
    "    # send result (unique words + count) back to another Kafka topic\n",
    "    p = Producer(server='kafka', port=9092)\n",
    "    o['counted_words'] = res\n",
    "    p.send('adjectives_counted', 'mykey', json.dumps(o))\n",
    "    \n",
    "from Kafka_Helpers import Consumer, Producer\n",
    "\n",
    "Consumer(server='kafka', port=9092, topic_name='adjectives', handler=count_and_send_back)\n",
    "# Consumer(server='kafka', port=9092, topic_name='topic_d', handler=print_key_value)\n",
    "    "
   ]
  }
 ],
 "metadata": {
  "kernelspec": {
   "display_name": "Python 3 (ipykernel)",
   "language": "python",
   "name": "python3"
  },
  "language_info": {
   "codemirror_mode": {
    "name": "ipython",
    "version": 3
   },
   "file_extension": ".py",
   "mimetype": "text/x-python",
   "name": "python",
   "nbconvert_exporter": "python",
   "pygments_lexer": "ipython3",
   "version": "3.10.6"
  }
 },
 "nbformat": 4,
 "nbformat_minor": 5
}
