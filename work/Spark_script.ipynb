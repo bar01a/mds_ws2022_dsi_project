{
 "cells": [
  {
   "cell_type": "code",
   "execution_count": 3,
   "id": "b019fc86-9939-4339-8b48-c6bf8b542d0c",
   "metadata": {},
   "outputs": [
    {
     "name": "stdout",
     "output_type": "stream",
     "text": [
      "Collecting kafka-python\n",
      "  Downloading kafka_python-2.0.2-py2.py3-none-any.whl (246 kB)\n",
      "\u001b[2K     \u001b[90m━━━━━━━━━━━━━━━━━━━━━━━━━━━━━━━━━━━━━━━\u001b[0m \u001b[32m246.5/246.5 kB\u001b[0m \u001b[31m4.5 MB/s\u001b[0m eta \u001b[36m0:00:00\u001b[0ma \u001b[36m0:00:01\u001b[0m\n",
      "\u001b[?25hInstalling collected packages: kafka-python\n",
      "Successfully installed kafka-python-2.0.2\n"
     ]
    }
   ],
   "source": [
    "# !pip install kafka-python"
   ]
  },
  {
   "cell_type": "code",
   "execution_count": 1,
   "id": "a45fbc8d-9287-4b4b-810e-d4b4836cf31f",
   "metadata": {},
   "outputs": [],
   "source": [
    "def count_and_send_back(key, value):\n",
    "    print(\"1\")\n",
    "    import ast\n",
    "    from pyspark import SparkContext\n",
    "    from Kafka_Helpers import Producer\n",
    "    \n",
    "    # Create Spark context\n",
    "    sc = SparkContext.getOrCreate()\n",
    "    \n",
    "    # make list of lists out of string\n",
    "    l = ast.literal_eval(value)\n",
    "    \n",
    "    # flatten list of lists to one single list\n",
    "    l = [item for sublist in l for item in sublist]\n",
    "    \n",
    "    # create Spark RDD from flattened list\n",
    "    wordsRDD = sc.parallelize(l, 4)\n",
    "    \n",
    "    # count\n",
    "    res = wordsRDD.map(lambda w: (w, 1)).reduceByKey(lambda x,y: x+y).collect()\n",
    "    \n",
    "    # send result (unique words + count) back to another Kafka topic\n",
    "    p = Producer(server='kafka', port=9092)\n",
    "    p.send('topic_d', 'mykey', res)\n",
    "    print(res)\n",
    "    \n",
    "def print_key_value(key, value):\n",
    "    print(f'{key}:{value}')\n",
    "    "
   ]
  },
  {
   "cell_type": "code",
   "execution_count": 2,
   "id": "3e2bf695-ad08-45aa-a5cd-b10483a0b083",
   "metadata": {},
   "outputs": [
    {
     "name": "stdout",
     "output_type": "stream",
     "text": [
      "Waiting for new events...\n"
     ]
    },
    {
     "data": {
      "text/plain": [
       "<Kafka_Helpers.Consumer at 0x7fefe2f1af20>"
      ]
     },
     "execution_count": 2,
     "metadata": {},
     "output_type": "execute_result"
    }
   ],
   "source": [
    "from Kafka_Helpers import Consumer, Producer\n",
    "\n",
    "Consumer(server='kafka', port=9092, topic_name='topic_c', handler=count_and_send_back)\n",
    "# Consumer(server='kafka', port=9092, topic_name='topic_d', handler=print_key_value)"
   ]
  },
  {
   "cell_type": "code",
   "execution_count": null,
   "id": "fb33de0f-f1a0-4450-b02e-40ea28fbc7de",
   "metadata": {},
   "outputs": [],
   "source": []
  }
 ],
 "metadata": {
  "kernelspec": {
   "display_name": "Python 3 (ipykernel)",
   "language": "python",
   "name": "python3"
  },
  "language_info": {
   "codemirror_mode": {
    "name": "ipython",
    "version": 3
   },
   "file_extension": ".py",
   "mimetype": "text/x-python",
   "name": "python",
   "nbconvert_exporter": "python",
   "pygments_lexer": "ipython3",
   "version": "3.10.6"
  }
 },
 "nbformat": 4,
 "nbformat_minor": 5
}
