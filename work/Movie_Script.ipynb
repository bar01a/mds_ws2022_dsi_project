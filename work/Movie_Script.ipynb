{
 "cells": [
  {
   "cell_type": "markdown",
   "id": "eaa0144f-09a6-4807-9cc5-817c91919407",
   "metadata": {},
   "source": [
    "# Movie Script"
   ]
  },
  {
   "cell_type": "markdown",
   "id": "09f52336-05fe-499d-9ee8-d9542632e072",
   "metadata": {
    "tags": []
   },
   "source": [
    "#### Short discription of what happens in this script: \n",
    "\n",
    "Accessing and use the \"Get Details\" and \"Get Reviews\" endpoints of \"The Movie Database API\" (https://developers.themoviedb.org/3/getting-started/introduction) to obtain the desired data:\n",
    "* the movie ID (that was requested)\n",
    "* the corresponding movie title\n",
    "* the corresponding movie reviews\n",
    "\n",
    "Writing this data into Kafka via the Kafka \"movieProducer\" & reading the requested movie ID via the Kafka \"movieConsumer\". (The movie ID is necessary to determine for which movie the reviews should be retrieved.)"
   ]
  },
  {
   "cell_type": "markdown",
   "id": "4fa01eeb-a04a-4749-97dd-106b50e38bff",
   "metadata": {},
   "source": [
    "#### The individual steps:"
   ]
  },
  {
   "cell_type": "markdown",
   "id": "866f982f-e095-4e48-9303-d4fc34377da2",
   "metadata": {},
   "source": [
    "Install Kafka library:"
   ]
  },
  {
   "cell_type": "code",
   "execution_count": null,
   "id": "ec3f2e9c-9060-4878-a480-980e2dcd9729",
   "metadata": {},
   "outputs": [],
   "source": [
    "#!pip install kafka-python"
   ]
  },
  {
   "cell_type": "markdown",
   "id": "4fba2569-926e-46dc-8ade-39ebf7f28181",
   "metadata": {},
   "source": [
    "Import necessary packages:"
   ]
  },
  {
   "cell_type": "code",
   "execution_count": 1,
   "id": "697ec5bd-1244-4505-83d5-b59913619ff4",
   "metadata": {},
   "outputs": [
    {
     "name": "stdout",
     "output_type": "stream",
     "text": [
      "Waiting for new events...\n"
     ]
    },
    {
     "name": "stdout",
     "output_type": "stream",
     "text": [
      "New event received\n"
     ]
    }
   ],
   "source": [
    "import requests\n",
    "# from Hidden_Secret import myApiKey\n",
    "import re\n",
    "import json\n",
    "from Kafka_Helpers import Producer, Consumer\n",
    "\n",
    "\n",
    "\n",
    "def get_data(movie_id):\n",
    "    exampleID = movie_id\n",
    "    # apiKey = myApiKey[\"apiKey\"]\n",
    "    apiKey = \"105864a59e519ef281a74ca3af6c1b17\"\n",
    "\n",
    "    request1 = requests.get(f\"https://api.themoviedb.org/3/movie/{exampleID}?api_key=105864a59e519ef281a74ca3af6c1b17&language=en-US\")\n",
    "    response1 = request1.json()\n",
    "\n",
    "    request2 = requests.get(f\"https://api.themoviedb.org/3/movie/{exampleID}/reviews?&language=en-US&page=1\", {\"api_key\": apiKey})\n",
    "    response2 = request2.json()\n",
    "    result = response2['results']\n",
    "\n",
    "    # ID\n",
    "    movieID = [response1['id']]\n",
    "\n",
    "    # original_title\n",
    "    movieTitle = [response1['original_title']]\n",
    "\n",
    "    # content \n",
    "    movieReviews = [item['content'] for item in result]\n",
    "    movieReviewsSplitted = [re.sub(r\"[^\\w \\- \\  ]\", \"\", item.lower()).split(\" \") for item in movieReviews] # ToDo: How to ignore empty string?\n",
    "    return movieID, movieTitle, movieReviewsSplitted\n",
    "\n",
    "movieProducer = Producer('localhost', 29092)\n",
    "\n",
    "def my_test_handler(key, value):\n",
    "    movie_id, movie_title, movie_reviews = get_data(value)\n",
    "    movieProducer.send(\"movie_reviews\", \"key\", json.dumps({\n",
    "        \"movie_id\": movie_id, \n",
    "        \"title\": movie_title, \n",
    "        \"reviews\": movie_reviews\n",
    "    }))\n",
    "\n",
    "movieConsumer = Consumer('localhost', 29092, \"new_movie_id\", my_test_handler)"
   ]
  },
  {
   "cell_type": "markdown",
   "id": "f2fb569d-4a81-4d6b-9b14-b3f3cb262306",
   "metadata": {},
   "source": [
    "Process data:"
   ]
  },
  {
   "cell_type": "code",
   "execution_count": null,
   "id": "2ec65ad4-a055-4f55-b198-4308d00d9cdb",
   "metadata": {},
   "outputs": [],
   "source": []
  },
  {
   "cell_type": "markdown",
   "id": "ad52b44b-4475-4766-a2b3-31347712fde8",
   "metadata": {},
   "source": [
    "Open Producer & write data into Kafka:"
   ]
  },
  {
   "cell_type": "code",
   "execution_count": null,
   "id": "0ac59966-1f2f-41ae-8354-64dbb2f3713e",
   "metadata": {},
   "outputs": [],
   "source": [
    "# movieProducer = Producer('localhost', 29092)\n",
    "\n",
    "# movieProducer.send(\"topic_b\", \"key\", json.dumps({\n",
    "#     \"movieID\": exampleID, \n",
    "#     \"movieReviewsSplitted\": movieReviewsSplitted, \n",
    "#     \"movieTitle\": movieTitle\n",
    "# }))"
   ]
  },
  {
   "cell_type": "markdown",
   "id": "da3b8ef3-b2aa-4281-a720-1a9692cbbe0d",
   "metadata": {},
   "source": [
    "Open Consumer & read data from Kafka:"
   ]
  },
  {
   "cell_type": "code",
   "execution_count": null,
   "id": "6a4370a7-3158-4df9-8746-733ee311bb28",
   "metadata": {},
   "outputs": [],
   "source": []
  },
  {
   "cell_type": "code",
   "execution_count": null,
   "id": "bd0a70e4",
   "metadata": {},
   "outputs": [],
   "source": [
    "exampleID = 76601\n",
    "# apiKey = myApiKey[\"apiKey\"]\n",
    "apiKey = \"105864a59e519ef281a74ca3af6c1b17\"\n",
    "\n",
    "request1 = requests.get(f\"https://api.themoviedb.org/3/movie/{exampleID}?api_key=105864a59e519ef281a74ca3af6c1b17&language=en-US\")\n",
    "print(request1)\n",
    "response1 = request1.json()\n",
    "\n",
    "request2 = requests.get(f\"https://api.themoviedb.org/3/movie/{exampleID}/reviews?&language=en-US&page=1\", {\"api_key\": apiKey})\n",
    "response2 = request2.json()\n",
    "result = response2['results']\n",
    "\n",
    "# ID\n",
    "movieID = [response1['id']]\n",
    "\n",
    "# original_title\n",
    "movieTitle = [response1['original_title']]\n",
    "\n",
    "# content \n",
    "movieReviews = [item['content'] for item in result]\n",
    "movieReviewsSplitted = [re.sub(r\"[^\\w \\- \\  ]\", \"\", item.lower()).split(\" \") for item in movieReviews] # ToDo: How to ignore empty string?\n",
    "movieID, movieTitle, movieReviewsSplitted"
   ]
  }
 ],
 "metadata": {
  "kernelspec": {
   "display_name": "Python 3",
   "language": "python",
   "name": "python3"
  },
  "language_info": {
   "codemirror_mode": {
    "name": "ipython",
    "version": 3
   },
   "file_extension": ".py",
   "mimetype": "text/x-python",
   "name": "python",
   "nbconvert_exporter": "python",
   "pygments_lexer": "ipython3",
   "version": "3.11.1"
  },
  "vscode": {
   "interpreter": {
    "hash": "5238573367df39f7286bb46f9ff5f08f63a01a80960060ce41e3c79b190280fa"
   }
  }
 },
 "nbformat": 4,
 "nbformat_minor": 5
}
