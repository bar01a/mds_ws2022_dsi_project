{
 "cells": [
  {
   "cell_type": "markdown",
   "id": "eaa0144f-09a6-4807-9cc5-817c91919407",
   "metadata": {},
   "source": [
    "# Movie Script"
   ]
  },
  {
   "cell_type": "markdown",
   "id": "09f52336-05fe-499d-9ee8-d9542632e072",
   "metadata": {
    "tags": []
   },
   "source": [
    "#### Short discription of what happens in this script: \n",
    "\n",
    "Accessing and use the \"Search Movies\", \"Get Reviews\" and \"Get Popular\" endpoints of \"The Movie Database API\" (https://developers.themoviedb.org/3/getting-started/introduction) to obtain the desired data:\n",
    "* the movie title (that was requested)\n",
    "* the corresponding movie ID\n",
    "* the corresponding movie reviews\n",
    "\n",
    "Writing this data into Kafka via the Kafka \"movieProducer\" & reading the requested movie title via the Kafka \"movieConsumer\". (The movie title is necessary to determine for which movie the reviews should be retrieved.)"
   ]
  },
  {
   "cell_type": "markdown",
   "id": "4fa01eeb-a04a-4749-97dd-106b50e38bff",
   "metadata": {},
   "source": [
    "#### The individual steps:"
   ]
  },
  {
   "cell_type": "markdown",
   "id": "866f982f-e095-4e48-9303-d4fc34377da2",
   "metadata": {},
   "source": [
    "Install Kafka library:"
   ]
  },
  {
   "cell_type": "code",
   "execution_count": 1,
   "id": "ec3f2e9c-9060-4878-a480-980e2dcd9729",
   "metadata": {},
   "outputs": [],
   "source": [
    "#!pip install kafka-python"
   ]
  },
  {
   "cell_type": "markdown",
   "id": "4fba2569-926e-46dc-8ade-39ebf7f28181",
   "metadata": {},
   "source": [
    "Import necessary packages:"
   ]
  },
  {
   "cell_type": "code",
   "execution_count": 2,
   "id": "bbd33d87-ff5a-4c2b-a775-3e1f53b4a2df",
   "metadata": {},
   "outputs": [],
   "source": [
    "import requests\n",
    "# from Hidden_Secret import myApiKey\n",
    "import re\n",
    "import json\n",
    "from Kafka_Helpers import Producer, Consumer"
   ]
  },
  {
   "cell_type": "code",
   "execution_count": 3,
   "id": "697ec5bd-1244-4505-83d5-b59913619ff4",
   "metadata": {},
   "outputs": [],
   "source": [
    "# Note: Please don't delete this code cell yet!\n",
    "\n",
    "# old version: get movie via ID\n",
    "\n",
    "# def get_data(movie_id):\n",
    "#    exampleID = movie_id\n",
    "#    apiKey = myApiKey[\"apiKey\"]\n",
    "#    apiKey = \"105864a59e519ef281a74ca3af6c1b17\"\n",
    "\n",
    "#    request1 = requests.get(f\"https://api.themoviedb.org/3/movie/{exampleID}?api_key=105864a59e519ef281a74ca3af6c1b17&language=en-US\")\n",
    "#    response1 = request1.json()\n",
    "\n",
    "#    request2 = requests.get(f\"https://api.themoviedb.org/3/movie/{exampleID}/reviews?&language=en-US&page=1\", {\"api_key\": apiKey})\n",
    "#    response2 = request2.json()\n",
    "#    result = response2['results']\n",
    "\n",
    "    # ID\n",
    "#   movieID = [response1['id']]\n",
    "\n",
    "    # original_title\n",
    "#   movieTitle = [response1['original_title']]\n",
    "\n",
    "    # content \n",
    "#   movieReviews = [item['content'] for item in result]\n",
    "#   movieReviewsSplitted = [re.sub(r\"[^\\w \\- \\  ]\", \"\", item.lower()).split(\" \") for item in movieReviews] # ToDo: How to ignore empty string?\n",
    "#   return movieID, movieTitle, movieReviewsSplitted\n",
    "\n",
    "# movieProducer = Producer('localhost', 29092)\n",
    "\n",
    "# def my_test_handler(key, value):\n",
    "#    movie_id, movie_title, movie_reviews = get_data(value)\n",
    "#    movieProducer.send(\"movie_reviews\", \"key\", json.dumps({\n",
    "#        \"movie_id\": movie_id, \n",
    "#        \"title\": movie_title, \n",
    "#        \"reviews\": movie_reviews\n",
    "#    }))\n",
    "\n",
    "# movieConsumer = Consumer('localhost', 29092, \"new_movie_id\", my_test_handler)"
   ]
  },
  {
   "cell_type": "markdown",
   "id": "b9bc42f5-46f4-450d-8989-ef8cd8f39664",
   "metadata": {},
   "source": [
    "Process data, open Producer and write processed data into Kafka, open consumer and read data from Kafka:"
   ]
  },
  {
   "cell_type": "code",
   "execution_count": 6,
   "id": "ee8e76b4-b9e4-4410-889d-9ecc91754bb7",
   "metadata": {},
   "outputs": [
    {
     "name": "stdout",
     "output_type": "stream",
     "text": [
      "Waiting for new events...\n"
     ]
    }
   ],
   "source": [
    "# new version: get movie via title\n",
    "\n",
    "# process data\n",
    "def get_data(movie_title):\n",
    "    \n",
    "    # \"Avatar\" as movie title example\n",
    "    receivedTitle = \"Avatar\"\n",
    "    # received movie title from consumer (user)\n",
    "    # receivedTitle = movie_title\n",
    "    \n",
    "    # apiKey = myApiKey[\"apiKey\"]\n",
    "    apiKey = \"105864a59e519ef281a74ca3af6c1b17\"\n",
    "    \n",
    "    # request Search Movies endpoint\n",
    "    request1 = requests.get(f\"https://api.themoviedb.org/3/search/movie?api_key=105864a59e519ef281a74ca3af6c1b17&query={receivedTitle}\")\n",
    "    response1 = request1.json()\n",
    "    result1 = response1['results']\n",
    "    # print(result1)\n",
    "    \n",
    "    # get id (from the first entry as this is the most similar to the received title)\n",
    "    movieID = [item['id'] for item in result1][0]    \n",
    "    # print(movieID)\n",
    "    \n",
    "    # get original_title\n",
    "    movieTitle = [item['original_title'] for item in result1][0]\n",
    "    # print(movieTitle)\n",
    "\n",
    "    # request Get Reviews endpoint\n",
    "    request2 = requests.get(f\"https://api.themoviedb.org/3/movie/{movieID}/reviews?api_key=105864a59e519ef281a74ca3af6c1b17\")\n",
    "    response2 = request2.json()\n",
    "    result2 = response2['results']\n",
    "    # print(result2)\n",
    "    \n",
    "    # get content\n",
    "    movieReviews = [item['content'] for item in result2]\n",
    "    movieReviewsSplitted = [re.sub(r\"[^\\w \\- \\  ]\", \"\", item.lower()).split(\" \") for item in movieReviews]\n",
    "    # print(movieReviewsSplitted)\n",
    "    \n",
    "    # request Get Popular endpoint\n",
    "    request3 = requests.get(\"https://api.themoviedb.org/3/movie/popular?api_key=105864a59e519ef281a74ca3af6c1b17&\")\n",
    "    response3 = request3.json()\n",
    "    result3 = response3['results']\n",
    "    # print(result3)\n",
    "    \n",
    "    # get original_title from most popular movie (first entry since Get Popular updates daily)\n",
    "    mostPopularMovieTitle = [item['original_title'] for item in result3][0]\n",
    "    # print(mostPopularMovieTitle)\n",
    "\n",
    "    # there are currently no FSK 18 movies\n",
    "    # get original_title from most popular movie adults\n",
    "    # mostPopularMovieTitleAdult = [item['original_title'] for item in result3 if item['adult'] == True][0]\n",
    "    # print(mostPopularMovieTitleAdults)\n",
    "    \n",
    "    # get original_title from most popular movie kids\n",
    "    # mostPopularMovieTitleKids = [item['original_title'] for item in result3 if item['adult'] == False][0]\n",
    "    # print(mostPopularMovieTitleKids)\n",
    "    \n",
    "    return movieID, movieTitle, movieReviewsSplitted, mostPopularMovieTitle\n",
    "\n",
    "# open Producer and write data into Kafka\n",
    "movieProducer = Producer('localhost', 29092)\n",
    "\n",
    "def handler(key, value):\n",
    "    movie_id, movie_title, movie_reviews, most_pop_movie = get_data(value)\n",
    "    movieProducer.send(\"movie_reviews\", \"key\", json.dumps({\n",
    "        \"id\": movie_id, \n",
    "        \"movie_title\": movie_title, \n",
    "        \"reviews\": movie_reviews, \n",
    "        \"pop\": most_pop_movie\n",
    "    }))\n",
    "\n",
    "# open Consumer read data from Kafka\n",
    "movieConsumer = Consumer('localhost', 29092, \"new_movie_title\", handler)"
   ]
  }
 ],
 "metadata": {
  "kernelspec": {
   "display_name": "Python 3 (ipykernel)",
   "language": "python",
   "name": "python3"
  },
  "language_info": {
   "codemirror_mode": {
    "name": "ipython",
    "version": 3
   },
   "file_extension": ".py",
   "mimetype": "text/x-python",
   "name": "python",
   "nbconvert_exporter": "python",
   "pygments_lexer": "ipython3",
   "version": "3.9.12"
  },
  "vscode": {
   "interpreter": {
    "hash": "5238573367df39f7286bb46f9ff5f08f63a01a80960060ce41e3c79b190280fa"
   }
  }
 },
 "nbformat": 4,
 "nbformat_minor": 5
}
