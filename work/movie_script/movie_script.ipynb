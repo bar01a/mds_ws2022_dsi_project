{
 "cells": [
  {
   "cell_type": "markdown",
   "id": "eaa0144f-09a6-4807-9cc5-817c91919407",
   "metadata": {},
   "source": [
    "# Movie Script"
   ]
  },
  {
   "cell_type": "markdown",
   "id": "09f52336-05fe-499d-9ee8-d9542632e072",
   "metadata": {
    "tags": []
   },
   "source": [
    "#### Short discription of what happens in this script: \n",
    "\n",
    "Accessing and use the \"Search Movies\", \"Get Reviews\", \"Get Popular\" and \"Get Details\" endpoints of \"The Movie Database API\" (https://developers.themoviedb.org/3/getting-started/introduction) to obtain the desired data:\n",
    "* In case the user specifies a movie title: \n",
    "    - the movie title that was requested\n",
    "    - the corresponding movie ID \n",
    "    - the corresponding movie reviews\n",
    "    \n",
    "* In case the user requests the most popular movie:\n",
    "    - the most popular movie title which has the most reviews\n",
    "    - the corresponding movie ID \n",
    "    - the corresponding movie reviews\n",
    "\n",
    "Writing this data into Kafka via the Kafka \"movieProducer\" & reading the requested movie title or the requested most popular movie via the Kafka \"movieConsumer\"."
   ]
  },
  {
   "cell_type": "markdown",
   "id": "4fa01eeb-a04a-4749-97dd-106b50e38bff",
   "metadata": {},
   "source": [
    "#### The individual steps:"
   ]
  },
  {
   "cell_type": "markdown",
   "id": "866f982f-e095-4e48-9303-d4fc34377da2",
   "metadata": {},
   "source": [
    "Install Kafka library:"
   ]
  },
  {
   "cell_type": "code",
   "execution_count": 11,
   "id": "ec3f2e9c-9060-4878-a480-980e2dcd9729",
   "metadata": {},
   "outputs": [],
   "source": [
    "#!pip install kafka-python"
   ]
  },
  {
   "cell_type": "markdown",
   "id": "4fba2569-926e-46dc-8ade-39ebf7f28181",
   "metadata": {},
   "source": [
    "Import necessary packages:"
   ]
  },
  {
   "cell_type": "code",
   "execution_count": 12,
   "id": "bbd33d87-ff5a-4c2b-a775-3e1f53b4a2df",
   "metadata": {},
   "outputs": [],
   "source": [
    "import requests\n",
    "# from Hidden_Secret import myApiKey\n",
    "import re\n",
    "import json\n",
    "from Kafka_Helpers import Producer, Consumer\n",
    "import ast"
   ]
  },
  {
   "cell_type": "code",
   "execution_count": 3,
   "id": "ee8e76b4-b9e4-4410-889d-9ecc91754bb7",
   "metadata": {},
   "outputs": [],
   "source": [
    "# Note: Please don't delete this code cell yet!\n",
    "\n",
    "# old version: get movie via title\n",
    "\n",
    "# process data\n",
    "# def get_data(movie_title):\n",
    "    \n",
    "    # \"Avatar\" as movie title example\n",
    "    # receivedTitle = \"Avatar\"\n",
    "    # received movie title from consumer (user)\n",
    "    # receivedTitle = movie_title\n",
    "    \n",
    "    # apiKey = myApiKey[\"apiKey\"]\n",
    "    # apiKey = \"105864a59e519ef281a74ca3af6c1b17\"\n",
    "    \n",
    "    # request Search Movies endpoint\n",
    "    # request1 = requests.get(f\"https://api.themoviedb.org/3/search/movie?api_key=105864a59e519ef281a74ca3af6c1b17&query={receivedTitle}\")\n",
    "    # response1 = request1.json()\n",
    "    # result1 = response1['results']\n",
    "    # print(result1)\n",
    "    \n",
    "    # get id (from the first entry as this is the most similar to the received title)\n",
    "    # movieID = [item['id'] for item in result1][0]    \n",
    "    # print(movieID)\n",
    "    \n",
    "    # get original_title\n",
    "    # movieTitle = [item['original_title'] for item in result1][0]\n",
    "    # print(movieTitle)\n",
    "\n",
    "    # request Get Reviews endpoint\n",
    "    # request2 = requests.get(f\"https://api.themoviedb.org/3/movie/{movieID}/reviews?api_key=105864a59e519ef281a74ca3af6c1b17\")\n",
    "    # response2 = request2.json()\n",
    "    # result2 = response2['results']\n",
    "    # print(result2)\n",
    "    \n",
    "    # get content\n",
    "    # movieReviews = [item['content'] for item in result2]\n",
    "    # movieReviewsSplitted = [re.sub(r\"[^\\w \\- \\  ]\", \"\", item.lower()).split(\" \") for item in movieReviews]\n",
    "    # print(movieReviewsSplitted)\n",
    "    \n",
    "    # request Get Popular endpoint\n",
    "    # request3 = requests.get(\"https://api.themoviedb.org/3/movie/popular?api_key=105864a59e519ef281a74ca3af6c1b17&\")\n",
    "    # response3 = request3.json()\n",
    "    # result3 = response3['results']\n",
    "    # print(result3)\n",
    "    \n",
    "    # get original_title from most popular movie (first entry since Get Popular updates daily)\n",
    "    # mostPopularMovieTitle = [item['original_title'] for item in result3][0]\n",
    "    # print(mostPopularMovieTitle)\n",
    "\n",
    "    # there are currently no FSK 18 movies\n",
    "    # get original_title from most popular movie adults\n",
    "    # mostPopularMovieTitleAdult = [item['original_title'] for item in result3 if item['adult'] == True][0]\n",
    "    # print(mostPopularMovieTitleAdults)\n",
    "    \n",
    "    # get original_title from most popular movie kids\n",
    "    # mostPopularMovieTitleKids = [item['original_title'] for item in result3 if item['adult'] == False][0]\n",
    "    # print(mostPopularMovieTitleKids)\n",
    "    \n",
    "    # return movieID, movieTitle, movieReviewsSplitted, mostPopularMovieTitle\n",
    "\n",
    "# open Producer and write data into Kafka\n",
    "# movieProducer = Producer('localhost', 29092)\n",
    "\n",
    "# def handler(key, value):\n",
    "#    movie_id, movie_title, movie_reviews, most_pop_movie = get_data(value)\n",
    "#    movieProducer.send(\"movie_reviews\", \"key\", json.dumps({\n",
    "#        \"id\": movie_id, \n",
    "#        \"movie_title\": movie_title, \n",
    "#        \"reviews\": movie_reviews, \n",
    "#        \"pop\": most_pop_movie\n",
    "#    }))\n",
    "\n",
    "# open Consumer read data from Kafka\n",
    "# movieConsumer = Consumer('localhost', 29092, \"new_movie_title\", handler)"
   ]
  },
  {
   "cell_type": "markdown",
   "id": "17f8f491-8985-41eb-a6bd-a30de7843c8a",
   "metadata": {},
   "source": [
    "Process data:"
   ]
  },
  {
   "cell_type": "code",
   "execution_count": 13,
   "id": "ffd72a66-3523-4028-9474-3842cf7067fa",
   "metadata": {},
   "outputs": [],
   "source": [
    "# new version:\n",
    "# get_data_by_title: get movieID, movieTitle and movieReviewsSplitted via movie_title\n",
    "# get_data_of_most_popular_movie: get movieID, movieTitle and movieReviewsSplitted via get_most_pop"
   ]
  },
  {
   "cell_type": "code",
   "execution_count": 5,
   "id": "4d7e39ee-e31d-4286-8a41-de747b19bc64",
   "metadata": {},
   "outputs": [],
   "source": [
    "# process data by the function get_data_by_title(movie_title)\n",
    "def get_data_by_title(title):\n",
    "    # \"Avatar\" as movie title example\n",
    "    receivedTitle = \"Avatar\"\n",
    "    # received movie title from consumer (user)\n",
    "    # receivedTitle = title\n",
    "    \n",
    "    # apiKey = myApiKey[\"apiKey\"]\n",
    "    apiKey = \"105864a59e519ef281a74ca3af6c1b17\"\n",
    "    \n",
    "    # request Search Movies endpoint\n",
    "    request1 = requests.get(f\"https://api.themoviedb.org/3/search/movie?api_key=105864a59e519ef281a74ca3af6c1b17&query={receivedTitle}\")\n",
    "    response1 = request1.json()\n",
    "    result1 = response1['results']\n",
    "    # print(result1)\n",
    "\n",
    "    # get id (from the first entry as this is the most similar to the received title)\n",
    "    movieID = [item['id'] for item in result1][0]    \n",
    "    # print(movieID)\n",
    "    \n",
    "    # get original_title (from the frist entry, machting the id)\n",
    "    movieTitle = [item['original_title'] for item in result1][0]\n",
    "    # print(movieTitle)\n",
    "    \n",
    "    # request Get Reviews endpoint\n",
    "    request2 = requests.get(f\"https://api.themoviedb.org/3/movie/{movieID}/reviews?api_key=105864a59e519ef281a74ca3af6c1b17\")\n",
    "    response2 = request2.json()\n",
    "    result2 = response2['results']\n",
    "    # print(result2)\n",
    "    \n",
    "    # get content (matching the id)\n",
    "    movieReviews = [item['content'] for item in result2]\n",
    "    movieReviewsSplitted = [re.sub(r\"[^\\w \\- \\  ]\", \"\", item.lower()).split(\" \") for item in movieReviews]\n",
    "    # print(movieReviewsSplitted)\n",
    "    \n",
    "    return movieID, movieTitle, movieReviewsSplitted"
   ]
  },
  {
   "cell_type": "code",
   "execution_count": 6,
   "id": "ef40644b-ba7f-4998-815e-1ef37af3fe39",
   "metadata": {},
   "outputs": [],
   "source": [
    "# process data by the function get_data_of_most_popular_movie()\n",
    "def get_data_of_most_popular_movie(): \n",
    "    \n",
    "    # get id of most popular movie which has the most reviews \n",
    "    # (since reviews are essential for the creation of the wordcloud but there are most popular movies without any reviews)\n",
    "    movieID = 0\n",
    "    maxReviews = 0\n",
    "    \n",
    "    # request Get Popular endpoint\n",
    "    request1 = requests.get('https://api.themoviedb.org/3/movie/popular?api_key=105864a59e519ef281a74ca3af6c1b17&')\n",
    "    response1 = json.loads(request1.text)\n",
    "\n",
    "    for movie in response1['results']:\n",
    "        movie_ID = movie['id']\n",
    "        # request Get Reviews endpoint\n",
    "        request1 = requests.get(f'https://api.themoviedb.org/3/movie/{movie_ID}/reviews?api_key=105864a59e519ef281a74ca3af6c1b17')\n",
    "        response1 = json.loads(request1.text)\n",
    "        # get id of most popular movie with most reviews\n",
    "        if len(response1['results']) > max_reviews:\n",
    "            maxReviews = len(response1['results'])\n",
    "            movieID = movie_id\n",
    "        \n",
    "    # print(movieID)\n",
    "    \n",
    "    # request Get Details endpoint (with the id that was just defined)\n",
    "    request2 = requests.get(f\"https://api.themoviedb.org/3/movie/{movieID}?api_key=105864a59e519ef281a74ca3af6c1b17&language=en-US\")\n",
    "    response2 = request2.json()\n",
    "    \n",
    "    # get original_title (matching the id)\n",
    "    movieTitle = [response2['original_title']]\n",
    "    # print(movieTitle)\n",
    "    \n",
    "    # request Get Reviews endpoint\n",
    "    result = response1['results']\n",
    "    \n",
    "    # get content (matching the id)\n",
    "    movieReviews = [item['content'] for item in result]\n",
    "    movieReviewsSplitted = [re.sub(r\"[^\\w \\- \\  ]\", \"\", item.lower()).split(\" \") for item in movieReviews]\n",
    "    # print(movieReviews)\n",
    "\n",
    "    return movieID, movieTitle, movieReviewsSplitted"
   ]
  },
  {
   "cell_type": "markdown",
   "id": "77b2edec-187e-4666-b62d-d35c9e63b02a",
   "metadata": {},
   "source": [
    "Write processed data into Kafka:"
   ]
  },
  {
   "cell_type": "code",
   "execution_count": 10,
   "id": "f2c6d6e7-3fa8-4dd6-be23-0ee5ac6e9bd3",
   "metadata": {},
   "outputs": [],
   "source": [
    "# open Producer and write data into Kafka\n",
    "movieProducer = Producer('localhost', 29092)\n",
    "\n",
    "def handler(key, value):\n",
    "    # check what is inside the message from the consumer\n",
    "    if \"movie-title=\" in str(value):\n",
    "        title = value.replace(\"movie-title=\",\"\")\n",
    "        movide_id, movie_title, movie_reviews = get_data_by_title(title)\n",
    "    if \"get_most_pop\" in str(value):\n",
    "        movie_id, movie_title, movie_reviews = get_data_of_most_popular_movie()\n",
    "    # write data into Kafka\n",
    "    movieProducer.send(\"movie_reviews\", \"key\", json.dumps({\n",
    "        \"id\": movie_id, \n",
    "        \"movie_title\": movie_title, \n",
    "        \"reviews\": movie_reviews\n",
    "    }))"
   ]
  },
  {
   "cell_type": "markdown",
   "id": "a3c2f01c-f257-4753-b8b6-fbc3f0ba6197",
   "metadata": {},
   "source": [
    "Open consumer and read data from Kafka:"
   ]
  },
  {
   "cell_type": "code",
   "execution_count": 8,
   "id": "a9e2a182-9f32-4970-8cd6-b9737e200bdb",
   "metadata": {},
   "outputs": [
    {
     "name": "stdout",
     "output_type": "stream",
     "text": [
      "Waiting for new events...\n"
     ]
    }
   ],
   "source": [
    "# open Consumer read data from Kafka\n",
    "movieConsumer = Consumer('localhost', 29092, \"new_movie_title\", handler)"
   ]
  }
 ],
 "metadata": {
  "kernelspec": {
   "display_name": "Python 3 (ipykernel)",
   "language": "python",
   "name": "python3"
  },
  "language_info": {
   "codemirror_mode": {
    "name": "ipython",
    "version": 3
   },
   "file_extension": ".py",
   "mimetype": "text/x-python",
   "name": "python",
   "nbconvert_exporter": "python",
   "pygments_lexer": "ipython3",
   "version": "3.9.12"
  },
  "vscode": {
   "interpreter": {
    "hash": "5238573367df39f7286bb46f9ff5f08f63a01a80960060ce41e3c79b190280fa"
   }
  }
 },
 "nbformat": 4,
 "nbformat_minor": 5
}
